{
 "cells": [
  {
   "cell_type": "code",
   "execution_count": 1,
   "metadata": {},
   "outputs": [
    {
     "data": {
      "text/plain": [
       "3"
      ]
     },
     "execution_count": 1,
     "metadata": {},
     "output_type": "execute_result"
    }
   ],
   "source": [
    "x = 1\n",
    "y = 2\n",
    "x + y"
   ]
  },
  {
   "cell_type": "code",
   "execution_count": 2,
   "metadata": {},
   "outputs": [
    {
     "data": {
      "text/plain": [
       "4"
      ]
     },
     "execution_count": 2,
     "metadata": {},
     "output_type": "execute_result"
    }
   ],
   "source": [
    "def add_members(x,y):\n",
    "    return x + y\n",
    "add_members(1, 3)"
   ]
  },
  {
   "cell_type": "code",
   "execution_count": 3,
   "metadata": {},
   "outputs": [
    {
     "name": "stdout",
     "output_type": "stream",
     "text": [
      "3\n",
      "6\n"
     ]
    }
   ],
   "source": [
    "def add_numbers(x, y, z = None):\n",
    "    if (z == None):\n",
    "        return x + y\n",
    "    else:\n",
    "        return x + y + z\n",
    "print (add_numbers(1,2))\n",
    "print (add_numbers(1,2,3))\n",
    "           "
   ]
  },
  {
   "cell_type": "code",
   "execution_count": 4,
   "metadata": {},
   "outputs": [
    {
     "name": "stdout",
     "output_type": "stream",
     "text": [
      "Flag is True\n",
      "3\n"
     ]
    }
   ],
   "source": [
    "def add_numbers(x, y, z = None, flag = False):\n",
    "    if(flag):\n",
    "        print(\"Flag is True\")\n",
    "    if (z == None):\n",
    "        return x + y\n",
    "    else:\n",
    "        return x + y + z\n",
    "print(add_numbers(1, 2, flag = True))"
   ]
  },
  {
   "cell_type": "code",
   "execution_count": 5,
   "metadata": {},
   "outputs": [
    {
     "data": {
      "text/plain": [
       "tuple"
      ]
     },
     "execution_count": 5,
     "metadata": {},
     "output_type": "execute_result"
    }
   ],
   "source": [
    "x = (1, 'a', 2)\n",
    "type(x)"
   ]
  },
  {
   "cell_type": "code",
   "execution_count": 6,
   "metadata": {},
   "outputs": [
    {
     "data": {
      "text/plain": [
       "list"
      ]
     },
     "execution_count": 6,
     "metadata": {},
     "output_type": "execute_result"
    }
   ],
   "source": [
    "x = [1, 'a', 20]\n",
    "type(x)"
   ]
  },
  {
   "cell_type": "code",
   "execution_count": 7,
   "metadata": {},
   "outputs": [
    {
     "name": "stdout",
     "output_type": "stream",
     "text": [
      "[1, 'a', 20, 3.3]\n"
     ]
    }
   ],
   "source": [
    "x.append(3.3)\n",
    "print(x)"
   ]
  },
  {
   "cell_type": "code",
   "execution_count": 8,
   "metadata": {},
   "outputs": [
    {
     "name": "stdout",
     "output_type": "stream",
     "text": [
      "1\n",
      "a\n",
      "20\n",
      "3.3\n"
     ]
    }
   ],
   "source": [
    "for item in x:\n",
    "    print(item)"
   ]
  },
  {
   "cell_type": "code",
   "execution_count": 9,
   "metadata": {},
   "outputs": [
    {
     "name": "stdout",
     "output_type": "stream",
     "text": [
      "1\n",
      "a\n",
      "20\n",
      "3.3\n"
     ]
    }
   ],
   "source": [
    "i = 0\n",
    "while ( i != len(x)):\n",
    "    print(x[i])\n",
    "    i = i + 1"
   ]
  },
  {
   "cell_type": "code",
   "execution_count": 14,
   "metadata": {},
   "outputs": [
    {
     "name": "stdout",
     "output_type": "stream",
     "text": [
      "T\n",
      "T\n",
      "Th\n"
     ]
    }
   ],
   "source": [
    "x = 'This is a string'\n",
    "print(x[0])\n",
    "print(x[0:1])\n",
    "print(x[0:2])"
   ]
  },
  {
   "cell_type": "code",
   "execution_count": 16,
   "metadata": {},
   "outputs": [
    {
     "data": {
      "text/plain": [
       "'t'"
      ]
     },
     "execution_count": 16,
     "metadata": {},
     "output_type": "execute_result"
    }
   ],
   "source": [
    "x[-5]"
   ]
  },
  {
   "cell_type": "code",
   "execution_count": 23,
   "metadata": {},
   "outputs": [
    {
     "data": {
      "text/plain": [
       "'a strin'"
      ]
     },
     "execution_count": 23,
     "metadata": {},
     "output_type": "execute_result"
    }
   ],
   "source": [
    "x[-8:-1]"
   ]
  },
  {
   "cell_type": "code",
   "execution_count": 26,
   "metadata": {},
   "outputs": [
    {
     "data": {
      "text/plain": [
       "'brooksch@unich.edu'"
      ]
     },
     "execution_count": 26,
     "metadata": {},
     "output_type": "execute_result"
    }
   ],
   "source": [
    "x = {'Christopher Brooks': 'brooksch@unich.edu', 'Bill Gates': 'billg@microsoft.com'}\n",
    "x['Christopher Brooks']"
   ]
  },
  {
   "cell_type": "code",
   "execution_count": 27,
   "metadata": {},
   "outputs": [],
   "source": [
    "x['Kevin Collins-Thompson'] = None\n",
    "x['Kevin Collins-Thompson']\n"
   ]
  },
  {
   "cell_type": "code",
   "execution_count": 28,
   "metadata": {},
   "outputs": [
    {
     "name": "stdout",
     "output_type": "stream",
     "text": [
      "brooksch@unich.edu\n",
      "billg@microsoft.com\n",
      "None\n"
     ]
    }
   ],
   "source": [
    "for name in x:\n",
    "    print(x[name])"
   ]
  },
  {
   "cell_type": "code",
   "execution_count": 29,
   "metadata": {},
   "outputs": [
    {
     "name": "stdout",
     "output_type": "stream",
     "text": [
      "Christopher Brooks\n",
      "brooksch@unich.edu\n",
      "Bill Gates\n",
      "billg@microsoft.com\n",
      "Kevin Collins-Thompson\n",
      "None\n"
     ]
    }
   ],
   "source": [
    "for name, email in x.items():\n",
    "    print(name)\n",
    "    print(email)"
   ]
  },
  {
   "cell_type": "code",
   "execution_count": 30,
   "metadata": {},
   "outputs": [],
   "source": [
    "x = ('Christopher', 'Brooks', 'broooksch@unich.edu')\n",
    "fname, lname, email = x"
   ]
  },
  {
   "cell_type": "code",
   "execution_count": 31,
   "metadata": {},
   "outputs": [
    {
     "data": {
      "text/plain": [
       "'Christopher'"
      ]
     },
     "execution_count": 31,
     "metadata": {},
     "output_type": "execute_result"
    }
   ],
   "source": [
    "fname"
   ]
  },
  {
   "cell_type": "code",
   "execution_count": 32,
   "metadata": {},
   "outputs": [
    {
     "data": {
      "text/plain": [
       "'Brooks'"
      ]
     },
     "execution_count": 32,
     "metadata": {},
     "output_type": "execute_result"
    }
   ],
   "source": [
    "lname"
   ]
  },
  {
   "cell_type": "code",
   "execution_count": 37,
   "metadata": {},
   "outputs": [
    {
     "name": "stdout",
     "output_type": "stream",
     "text": [
      "Chris2\n"
     ]
    }
   ],
   "source": [
    "print('Chris' + str(2))"
   ]
  },
  {
   "cell_type": "code",
   "execution_count": 46,
   "metadata": {},
   "outputs": [
    {
     "name": "stdout",
     "output_type": "stream",
     "text": [
      "Chris bought 4 item(s) at a price of 3.24 each for a total 12.96\n"
     ]
    }
   ],
   "source": [
    "sales_record = {'price': 3.24,\n",
    "                   'num_items': 4,\n",
    "                   'Buyer': 'Chris'}\n",
    "sales_statement = '{} bought {} item(s) at a price of {} each for a total {}'\n",
    "print(sales_statement.format(sales_record['Buyer'],\n",
    "                            sales_record['num_items'],\n",
    "                            sales_record['price'],\n",
    "                            sales_record['price'] *sales_record ['num_items']))"
   ]
  },
  {
   "cell_type": "code",
   "execution_count": 52,
   "metadata": {},
   "outputs": [
    {
     "data": {
      "text/plain": [
       "[OrderedDict([('mpg', '18'),\n",
       "              ('cylinders', '8'),\n",
       "              ('displacement', '307'),\n",
       "              ('horsepower', '130'),\n",
       "              ('weight', '3504'),\n",
       "              ('acceleration', '12'),\n",
       "              ('model_year', '70'),\n",
       "              ('origin', '1'),\n",
       "              ('name', 'chevrolet chevelle malibu')]),\n",
       " OrderedDict([('mpg', '15'),\n",
       "              ('cylinders', '8'),\n",
       "              ('displacement', '350'),\n",
       "              ('horsepower', '165'),\n",
       "              ('weight', '3693'),\n",
       "              ('acceleration', '11.5'),\n",
       "              ('model_year', '70'),\n",
       "              ('origin', '1'),\n",
       "              ('name', 'buick skylark 320')]),\n",
       " OrderedDict([('mpg', '18'),\n",
       "              ('cylinders', '8'),\n",
       "              ('displacement', '318'),\n",
       "              ('horsepower', '150'),\n",
       "              ('weight', '3436'),\n",
       "              ('acceleration', '11'),\n",
       "              ('model_year', '70'),\n",
       "              ('origin', '1'),\n",
       "              ('name', 'plymouth satellite')])]"
      ]
     },
     "execution_count": 52,
     "metadata": {},
     "output_type": "execute_result"
    }
   ],
   "source": [
    "import csv\n",
    "%precision 2\n",
    "with open('mpg.csv') as csvfile:\n",
    "    mpg = list(csv.DictReader(csvfile))\n",
    "\n",
    "mpg[:3]"
   ]
  },
  {
   "cell_type": "code",
   "execution_count": 53,
   "metadata": {},
   "outputs": [
    {
     "data": {
      "text/plain": [
       "398"
      ]
     },
     "execution_count": 53,
     "metadata": {},
     "output_type": "execute_result"
    }
   ],
   "source": [
    "len(mpg)"
   ]
  },
  {
   "cell_type": "code",
   "execution_count": 54,
   "metadata": {},
   "outputs": [
    {
     "data": {
      "text/plain": [
       "odict_keys(['mpg', 'cylinders', 'displacement', 'horsepower', 'weight', 'acceleration', 'model_year', 'origin', 'name'])"
      ]
     },
     "execution_count": 54,
     "metadata": {},
     "output_type": "execute_result"
    }
   ],
   "source": [
    "mpg[0].keys()"
   ]
  },
  {
   "cell_type": "code",
   "execution_count": 56,
   "metadata": {},
   "outputs": [
    {
     "data": {
      "text/plain": [
       "5.45"
      ]
     },
     "execution_count": 56,
     "metadata": {},
     "output_type": "execute_result"
    }
   ],
   "source": [
    "sum(float(d['cylinders']) for d in mpg) / len(mpg)"
   ]
  },
  {
   "cell_type": "code",
   "execution_count": 57,
   "metadata": {},
   "outputs": [
    {
     "data": {
      "text/plain": [
       "{'3', '4', '5', '6', '8'}"
      ]
     },
     "execution_count": 57,
     "metadata": {},
     "output_type": "execute_result"
    }
   ],
   "source": [
    "cyl = set(d['cylinders'] for d in mpg)\n",
    "cyl"
   ]
  },
  {
   "cell_type": "code",
   "execution_count": 64,
   "metadata": {},
   "outputs": [
    {
     "data": {
      "text/plain": [
       "[('3', 75.50), ('4', 77.07), ('5', 79.00), ('6', 75.93), ('8', 73.90)]"
      ]
     },
     "execution_count": 64,
     "metadata": {},
     "output_type": "execute_result"
    }
   ],
   "source": [
    "CtympgBycylinder = []\n",
    "for c in cyl:\n",
    "    summpg = 0\n",
    "    cylindertypercount = 0\n",
    "    for d in mpg:\n",
    "        if d['cylinders'] == c:\n",
    "            summpg += float(d['model_year'])\n",
    "            cylindertypercount += 1\n",
    "    CtympgBycylinder.append((c, summpg/cylindertypercount))\n",
    "CtympgBycylinder.sort(key=lambda x: x[0])\n",
    "CtympgBycylinder"
   ]
  },
  {
   "cell_type": "code",
   "execution_count": 69,
   "metadata": {},
   "outputs": [
    {
     "data": {
      "text/plain": [
       "{'amc ambassador brougham',\n",
       " 'amc ambassador dpl',\n",
       " 'amc ambassador sst',\n",
       " 'amc concord',\n",
       " 'amc concord d/l',\n",
       " 'amc concord dl',\n",
       " 'amc concord dl 6',\n",
       " 'amc gremlin',\n",
       " 'amc hornet',\n",
       " 'amc hornet sportabout (sw)',\n",
       " 'amc matador',\n",
       " 'amc matador (sw)',\n",
       " 'amc pacer',\n",
       " 'amc pacer d/l',\n",
       " 'amc rebel sst',\n",
       " 'amc spirit dl',\n",
       " 'audi 100 ls',\n",
       " 'audi 100ls',\n",
       " 'audi 4000',\n",
       " 'audi 5000',\n",
       " 'audi 5000s (diesel)',\n",
       " 'audi fox',\n",
       " 'bmw 2002',\n",
       " 'bmw 320i',\n",
       " 'buick century',\n",
       " 'buick century 350',\n",
       " 'buick century limited',\n",
       " 'buick century luxus (sw)',\n",
       " 'buick century special',\n",
       " 'buick electra 225 custom',\n",
       " 'buick estate wagon (sw)',\n",
       " 'buick lesabre custom',\n",
       " 'buick opel isuzu deluxe',\n",
       " 'buick regal sport coupe (turbo)',\n",
       " 'buick skyhawk',\n",
       " 'buick skylark',\n",
       " 'buick skylark 320',\n",
       " 'buick skylark limited',\n",
       " 'cadillac eldorado',\n",
       " 'cadillac seville',\n",
       " 'capri ii',\n",
       " 'chevroelt chevelle malibu',\n",
       " 'chevrolet bel air',\n",
       " 'chevrolet camaro',\n",
       " 'chevrolet caprice classic',\n",
       " 'chevrolet cavalier',\n",
       " 'chevrolet cavalier 2-door',\n",
       " 'chevrolet cavalier wagon',\n",
       " 'chevrolet chevelle concours (sw)',\n",
       " 'chevrolet chevelle malibu',\n",
       " 'chevrolet chevelle malibu classic',\n",
       " 'chevrolet chevette',\n",
       " 'chevrolet citation',\n",
       " 'chevrolet concours',\n",
       " 'chevrolet impala',\n",
       " 'chevrolet malibu',\n",
       " 'chevrolet malibu classic (sw)',\n",
       " 'chevrolet monte carlo',\n",
       " 'chevrolet monte carlo landau',\n",
       " 'chevrolet monte carlo s',\n",
       " 'chevrolet monza 2+2',\n",
       " 'chevrolet nova',\n",
       " 'chevrolet nova custom',\n",
       " 'chevrolet vega',\n",
       " 'chevrolet vega (sw)',\n",
       " 'chevrolet vega 2300',\n",
       " 'chevrolet woody',\n",
       " 'chevy c10',\n",
       " 'chevy c20',\n",
       " 'chevy s-10',\n",
       " 'chrysler cordoba',\n",
       " 'chrysler lebaron medallion',\n",
       " 'chrysler lebaron salon',\n",
       " 'chrysler lebaron town @ country (sw)',\n",
       " 'chrysler new yorker brougham',\n",
       " 'chrysler newport royal',\n",
       " 'datsun 1200',\n",
       " 'datsun 200-sx',\n",
       " 'datsun 200sx',\n",
       " 'datsun 210',\n",
       " 'datsun 210 mpg',\n",
       " 'datsun 280-zx',\n",
       " 'datsun 310',\n",
       " 'datsun 310 gx',\n",
       " 'datsun 510',\n",
       " 'datsun 510 (sw)',\n",
       " 'datsun 510 hatchback',\n",
       " 'datsun 610',\n",
       " 'datsun 710',\n",
       " 'datsun 810',\n",
       " 'datsun 810 maxima',\n",
       " 'datsun b-210',\n",
       " 'datsun b210',\n",
       " 'datsun b210 gx',\n",
       " 'datsun f-10 hatchback',\n",
       " 'datsun pl510',\n",
       " 'dodge aries se',\n",
       " 'dodge aries wagon (sw)',\n",
       " 'dodge aspen',\n",
       " 'dodge aspen 6',\n",
       " 'dodge aspen se',\n",
       " 'dodge challenger se',\n",
       " 'dodge charger 2.2',\n",
       " 'dodge colt',\n",
       " 'dodge colt (sw)',\n",
       " 'dodge colt hardtop',\n",
       " 'dodge colt hatchback custom',\n",
       " 'dodge colt m/m',\n",
       " 'dodge coronet brougham',\n",
       " 'dodge coronet custom',\n",
       " 'dodge coronet custom (sw)',\n",
       " 'dodge d100',\n",
       " 'dodge d200',\n",
       " 'dodge dart custom',\n",
       " 'dodge diplomat',\n",
       " 'dodge magnum xe',\n",
       " 'dodge monaco (sw)',\n",
       " 'dodge monaco brougham',\n",
       " 'dodge omni',\n",
       " 'dodge rampage',\n",
       " 'dodge st. regis',\n",
       " 'fiat 124 sport coupe',\n",
       " 'fiat 124 tc',\n",
       " 'fiat 124b',\n",
       " 'fiat 128',\n",
       " 'fiat 131',\n",
       " 'fiat strada custom',\n",
       " 'fiat x1.9',\n",
       " 'ford country',\n",
       " 'ford country squire (sw)',\n",
       " 'ford escort 2h',\n",
       " 'ford escort 4w',\n",
       " 'ford f108',\n",
       " 'ford f250',\n",
       " 'ford fairmont',\n",
       " 'ford fairmont (auto)',\n",
       " 'ford fairmont (man)',\n",
       " 'ford fairmont 4',\n",
       " 'ford fairmont futura',\n",
       " 'ford fiesta',\n",
       " 'ford futura',\n",
       " 'ford galaxie 500',\n",
       " 'ford gran torino',\n",
       " 'ford gran torino (sw)',\n",
       " 'ford granada',\n",
       " 'ford granada ghia',\n",
       " 'ford granada gl',\n",
       " 'ford granada l',\n",
       " 'ford ltd',\n",
       " 'ford ltd landau',\n",
       " 'ford maverick',\n",
       " 'ford mustang',\n",
       " 'ford mustang cobra',\n",
       " 'ford mustang gl',\n",
       " 'ford mustang ii',\n",
       " 'ford mustang ii 2+2',\n",
       " 'ford pinto',\n",
       " 'ford pinto (sw)',\n",
       " 'ford pinto runabout',\n",
       " 'ford ranger',\n",
       " 'ford thunderbird',\n",
       " 'ford torino',\n",
       " 'ford torino 500',\n",
       " 'hi 1200d',\n",
       " 'honda accord',\n",
       " 'honda accord cvcc',\n",
       " 'honda accord lx',\n",
       " 'honda civic',\n",
       " 'honda civic (auto)',\n",
       " 'honda civic 1300',\n",
       " 'honda civic 1500 gl',\n",
       " 'honda civic cvcc',\n",
       " 'honda prelude',\n",
       " 'maxda glc deluxe',\n",
       " 'maxda rx3',\n",
       " 'mazda 626',\n",
       " 'mazda glc',\n",
       " 'mazda glc 4',\n",
       " 'mazda glc custom',\n",
       " 'mazda glc custom l',\n",
       " 'mazda glc deluxe',\n",
       " 'mazda rx-4',\n",
       " 'mazda rx-7 gs',\n",
       " 'mazda rx2 coupe',\n",
       " 'mercedes benz 300d',\n",
       " 'mercedes-benz 240d',\n",
       " 'mercedes-benz 280s',\n",
       " 'mercury capri 2000',\n",
       " 'mercury capri v6',\n",
       " 'mercury cougar brougham',\n",
       " 'mercury grand marquis',\n",
       " 'mercury lynx l',\n",
       " 'mercury marquis',\n",
       " 'mercury marquis brougham',\n",
       " 'mercury monarch',\n",
       " 'mercury monarch ghia',\n",
       " 'mercury zephyr',\n",
       " 'mercury zephyr 6',\n",
       " 'nissan stanza xe',\n",
       " 'oldsmobile cutlass ciera (diesel)',\n",
       " 'oldsmobile cutlass ls',\n",
       " 'oldsmobile cutlass salon brougham',\n",
       " 'oldsmobile cutlass supreme',\n",
       " 'oldsmobile delta 88 royale',\n",
       " 'oldsmobile omega',\n",
       " 'oldsmobile omega brougham',\n",
       " 'oldsmobile starfire sx',\n",
       " 'oldsmobile vista cruiser',\n",
       " 'opel 1900',\n",
       " 'opel manta',\n",
       " 'peugeot 304',\n",
       " 'peugeot 504',\n",
       " 'peugeot 504 (sw)',\n",
       " 'peugeot 505s turbo diesel',\n",
       " 'peugeot 604sl',\n",
       " \"plymouth 'cuda 340\",\n",
       " 'plymouth arrow gs',\n",
       " 'plymouth champ',\n",
       " 'plymouth cricket',\n",
       " 'plymouth custom suburb',\n",
       " 'plymouth duster',\n",
       " 'plymouth fury',\n",
       " 'plymouth fury gran sedan',\n",
       " 'plymouth fury iii',\n",
       " 'plymouth grand fury',\n",
       " 'plymouth horizon',\n",
       " 'plymouth horizon 4',\n",
       " 'plymouth horizon miser',\n",
       " 'plymouth horizon tc3',\n",
       " 'plymouth reliant',\n",
       " 'plymouth sapporo',\n",
       " 'plymouth satellite',\n",
       " 'plymouth satellite custom',\n",
       " 'plymouth satellite custom (sw)',\n",
       " 'plymouth satellite sebring',\n",
       " 'plymouth valiant',\n",
       " 'plymouth valiant custom',\n",
       " 'plymouth volare',\n",
       " 'plymouth volare custom',\n",
       " 'plymouth volare premier v8',\n",
       " 'pontiac astro',\n",
       " 'pontiac catalina',\n",
       " 'pontiac catalina brougham',\n",
       " 'pontiac firebird',\n",
       " 'pontiac grand prix',\n",
       " 'pontiac grand prix lj',\n",
       " 'pontiac j2000 se hatchback',\n",
       " 'pontiac lemans v6',\n",
       " 'pontiac phoenix',\n",
       " 'pontiac phoenix lj',\n",
       " 'pontiac safari (sw)',\n",
       " 'pontiac sunbird coupe',\n",
       " 'pontiac ventura sj',\n",
       " 'renault 12 (sw)',\n",
       " 'renault 12tl',\n",
       " 'renault 18i',\n",
       " 'renault 5 gtl',\n",
       " 'renault lecar deluxe',\n",
       " 'saab 99e',\n",
       " 'saab 99gle',\n",
       " 'saab 99le',\n",
       " 'subaru',\n",
       " 'subaru dl',\n",
       " 'toyota carina',\n",
       " 'toyota celica gt',\n",
       " 'toyota celica gt liftback',\n",
       " 'toyota corolla',\n",
       " 'toyota corolla 1200',\n",
       " 'toyota corolla 1600 (sw)',\n",
       " 'toyota corolla liftback',\n",
       " 'toyota corolla tercel',\n",
       " 'toyota corona',\n",
       " 'toyota corona hardtop',\n",
       " 'toyota corona liftback',\n",
       " 'toyota corona mark ii',\n",
       " 'toyota cressida',\n",
       " 'toyota mark ii',\n",
       " 'toyota starlet',\n",
       " 'toyota tercel',\n",
       " 'toyouta corona mark ii (sw)',\n",
       " 'triumph tr7 coupe',\n",
       " 'vokswagen rabbit',\n",
       " 'volkswagen 1131 deluxe sedan',\n",
       " 'volkswagen 411 (sw)',\n",
       " 'volkswagen dasher',\n",
       " 'volkswagen jetta',\n",
       " 'volkswagen model 111',\n",
       " 'volkswagen rabbit',\n",
       " 'volkswagen rabbit custom',\n",
       " 'volkswagen rabbit custom diesel',\n",
       " 'volkswagen rabbit l',\n",
       " 'volkswagen scirocco',\n",
       " 'volkswagen super beetle',\n",
       " 'volkswagen type 3',\n",
       " 'volvo 144ea',\n",
       " 'volvo 145e (sw)',\n",
       " 'volvo 244dl',\n",
       " 'volvo 245',\n",
       " 'volvo 264gl',\n",
       " 'volvo diesel',\n",
       " 'vw dasher (diesel)',\n",
       " 'vw pickup',\n",
       " 'vw rabbit',\n",
       " 'vw rabbit c (diesel)',\n",
       " 'vw rabbit custom'}"
      ]
     },
     "execution_count": 69,
     "metadata": {},
     "output_type": "execute_result"
    }
   ],
   "source": [
    "vehiclename = set(d['name'] for d in mpg)\n",
    "vehiclename"
   ]
  },
  {
   "cell_type": "code",
   "execution_count": 71,
   "metadata": {},
   "outputs": [
    {
     "data": {
      "text/plain": [
       "[(\"plymouth 'cuda 340\", 8.00),\n",
       " ('amc ambassador dpl', 8.50),\n",
       " ('pontiac grand prix', 9.50),\n",
       " ('chevrolet monte carlo', 9.50),\n",
       " ('dodge challenger se', 10.00),\n",
       " ('ford torino', 10.50),\n",
       " ('amc ambassador brougham', 11.00),\n",
       " ('chrysler new yorker brougham', 11.00),\n",
       " ('buick electra 225 custom', 11.00),\n",
       " ('mercury marquis', 11.00),\n",
       " ('dodge dart custom', 11.00),\n",
       " ('plymouth satellite', 11.00),\n",
       " ('oldsmobile omega', 11.00),\n",
       " ('pontiac grand prix lj', 11.10),\n",
       " ('pontiac catalina', 11.17),\n",
       " ('ford futura', 11.20),\n",
       " ('datsun 280-zx', 11.40),\n",
       " ('mercury marquis brougham', 11.50),\n",
       " ('amc ambassador sst', 11.50),\n",
       " ('dodge monaco (sw)', 11.50),\n",
       " ('buick skylark 320', 11.50),\n",
       " ('pontiac catalina brougham', 11.50),\n",
       " ('dodge rampage', 11.60),\n",
       " ('plymouth fury iii', 11.67),\n",
       " ('chevrolet impala', 11.75),\n",
       " ('chevy c10', 12.00),\n",
       " ('pontiac safari (sw)', 12.00),\n",
       " ('ford mustang ii', 12.00),\n",
       " ('amc rebel sst', 12.00),\n",
       " ('cadillac seville', 12.10),\n",
       " ('ford galaxie 500', 12.17),\n",
       " ('chrysler cordoba', 12.20),\n",
       " ('chevrolet monte carlo landau', 12.30),\n",
       " ('buick estate wagon (sw)', 12.45),\n",
       " ('bmw 2002', 12.50),\n",
       " ('oldsmobile vista cruiser', 12.50),\n",
       " ('chrysler newport royal', 12.50),\n",
       " ('dodge coronet custom', 12.50),\n",
       " ('ford country', 12.50),\n",
       " ('mazda rx-7 gs', 12.50),\n",
       " ('toyota cressida', 12.60),\n",
       " ('bmw 320i', 12.80),\n",
       " ('mercury monarch ghia', 12.80),\n",
       " ('oldsmobile omega brougham', 12.90),\n",
       " ('buick century 350', 13.00),\n",
       " ('dodge coronet brougham', 13.00),\n",
       " ('chevrolet monte carlo s', 13.00),\n",
       " ('plymouth custom suburb', 13.00),\n",
       " ('chrysler lebaron town @ country (sw)', 13.00),\n",
       " ('dodge charger 2.2', 13.00),\n",
       " ('volkswagen rabbit', 13.10),\n",
       " ('ford country squire (sw)', 13.15),\n",
       " ('plymouth volare premier v8', 13.20),\n",
       " ('plymouth horizon', 13.20),\n",
       " ('dodge diplomat', 13.20),\n",
       " ('mercury grand marquis', 13.20),\n",
       " ('ford ltd', 13.25),\n",
       " ('chevrolet caprice classic', 13.30),\n",
       " ('buick regal sport coupe (turbo)', 13.40),\n",
       " ('ford ltd landau', 13.40),\n",
       " ('chevrolet citation', 13.47),\n",
       " ('dodge coronet custom (sw)', 13.50),\n",
       " ('buick lesabre custom', 13.50),\n",
       " ('oldsmobile delta 88 royale', 13.50),\n",
       " ('amc hornet sportabout (sw)', 13.50),\n",
       " ('maxda rx3', 13.50),\n",
       " ('mazda rx-4', 13.50),\n",
       " ('dodge d200', 13.50),\n",
       " ('chevrolet monza 2+2', 13.50),\n",
       " ('mazda rx2 coupe', 13.50),\n",
       " ('volvo 264gl', 13.60),\n",
       " ('dodge monaco brougham', 13.70),\n",
       " ('dodge magnum xe', 13.70),\n",
       " ('saab 99le', 13.75),\n",
       " ('chevrolet chevelle malibu', 13.75),\n",
       " ('ford gran torino', 13.77),\n",
       " ('honda civic 1500 gl', 13.80),\n",
       " ('datsun 810 maxima', 13.80),\n",
       " ('toyota celica gt', 13.90),\n",
       " ('fiat 124 tc', 14.00),\n",
       " ('mercury capri 2000', 14.00),\n",
       " ('ford f250', 14.00),\n",
       " ('amc matador (sw)', 14.00),\n",
       " ('vw rabbit custom', 14.00),\n",
       " ('mercury capri v6', 14.00),\n",
       " ('dodge d100', 14.00),\n",
       " ('chevrolet bel air', 14.00),\n",
       " ('chevrolet chevelle concours (sw)', 14.00),\n",
       " ('plymouth satellite custom (sw)', 14.00),\n",
       " ('volkswagen jetta', 14.20),\n",
       " ('plymouth reliant', 14.30),\n",
       " ('ford mustang cobra', 14.30),\n",
       " ('ford fiesta', 14.40),\n",
       " ('dodge colt hatchback custom', 14.40),\n",
       " ('dodge aries wagon (sw)', 14.40),\n",
       " ('honda prelude', 14.40),\n",
       " ('vw rabbit', 14.45),\n",
       " ('audi 100 ls', 14.50),\n",
       " ('buick century luxus (sw)', 14.50),\n",
       " ('volkswagen rabbit custom', 14.50),\n",
       " ('toyouta corona mark ii (sw)', 14.50),\n",
       " ('plymouth grand fury', 14.50),\n",
       " ('plymouth fury gran sedan', 14.50),\n",
       " ('chrysler lebaron medallion', 14.50),\n",
       " ('nissan stanza xe', 14.50),\n",
       " ('dodge omni', 14.50),\n",
       " ('ford mustang', 14.50),\n",
       " ('datsun pl510', 14.50),\n",
       " ('fiat 124b', 14.50),\n",
       " ('datsun 810', 14.50),\n",
       " ('volvo 145e (sw)', 14.50),\n",
       " ('ford thunderbird', 14.50),\n",
       " ('toyota mark ii', 14.50),\n",
       " ('audi 100ls', 14.50),\n",
       " ('volvo 244dl', 14.50),\n",
       " ('toyota corona', 14.55),\n",
       " ('fiat strada custom', 14.70),\n",
       " ('plymouth horizon miser', 14.70),\n",
       " ('datsun 510', 14.70),\n",
       " ('ford granada l', 14.70),\n",
       " ('amc gremlin', 14.75),\n",
       " ('datsun 200sx', 14.80),\n",
       " ('toyota celica gt liftback', 14.80),\n",
       " ('buick opel isuzu deluxe', 14.80),\n",
       " ('plymouth horizon tc3', 14.90),\n",
       " ('plymouth horizon 4', 14.90),\n",
       " ('datsun 200-sx', 14.90),\n",
       " ('capri ii', 14.90),\n",
       " ('volkswagen scirocco', 14.90),\n",
       " ('mercury cougar brougham', 14.90),\n",
       " ('pontiac firebird', 15.00),\n",
       " ('dodge colt (sw)', 15.00),\n",
       " ('toyota corona mark ii', 15.00),\n",
       " ('opel manta', 15.00),\n",
       " ('buick skyhawk', 15.00),\n",
       " ('amc spirit dl', 15.00),\n",
       " ('chevy c20', 15.00),\n",
       " ('datsun 510 hatchback', 15.00),\n",
       " ('chevrolet malibu classic (sw)', 15.00),\n",
       " ('ford f108', 15.00),\n",
       " ('chevrolet chevelle malibu classic', 15.00),\n",
       " ('amc concord d/l', 15.10),\n",
       " ('triumph tr7 coupe', 15.10),\n",
       " ('dodge st. regis', 15.20),\n",
       " ('maxda glc deluxe', 15.20),\n",
       " ('renault 12tl', 15.30),\n",
       " ('volkswagen rabbit l', 15.30),\n",
       " ('vokswagen rabbit', 15.30),\n",
       " ('volkswagen dasher', 15.37),\n",
       " ('pontiac lemans v6', 15.40),\n",
       " ('ford fairmont (man)', 15.40),\n",
       " ('opel 1900', 15.45),\n",
       " ('plymouth satellite custom', 15.50),\n",
       " ('toyota corona liftback', 15.50),\n",
       " ('plymouth arrow gs', 15.50),\n",
       " ('fiat 124 sport coupe', 15.50),\n",
       " ('fiat 131', 15.50),\n",
       " ('chevrolet vega 2300', 15.50),\n",
       " ('volvo 144ea', 15.50),\n",
       " ('toyota corona hardtop', 15.50),\n",
       " ('ford torino 500', 15.50),\n",
       " ('dodge colt', 15.53),\n",
       " ('amc matador', 15.58),\n",
       " ('pontiac phoenix', 15.60),\n",
       " ('ford mustang gl', 15.60),\n",
       " ('chevrolet malibu', 15.60),\n",
       " ('volvo 245', 15.70),\n",
       " ('saab 99gle', 15.70),\n",
       " ('honda civic (auto)', 15.70),\n",
       " ('honda accord', 15.75),\n",
       " ('honda civic', 15.80),\n",
       " ('audi 4000', 15.80),\n",
       " ('ford fairmont (auto)', 15.80),\n",
       " ('renault 18i', 15.80),\n",
       " ('ford mustang ii 2+2', 15.80),\n",
       " ('peugeot 604sl', 15.80),\n",
       " ('buick century special', 15.80),\n",
       " ('chevrolet nova', 15.83),\n",
       " ('audi 5000', 15.90),\n",
       " ('dodge colt m/m', 15.90),\n",
       " ('plymouth valiant', 15.95),\n",
       " ('mazda glc 4', 16.00),\n",
       " ('fiat x1.9', 16.00),\n",
       " ('dodge aries se', 16.00),\n",
       " ('plymouth duster', 16.00),\n",
       " ('buick skylark limited', 16.00),\n",
       " ('pontiac sunbird coupe', 16.00),\n",
       " ('plymouth valiant custom', 16.00),\n",
       " ('ford gran torino (sw)', 16.00),\n",
       " ('ford pinto (sw)', 16.00),\n",
       " ('honda civic 1300', 16.10),\n",
       " ('ford escort 4w', 16.20),\n",
       " ('pontiac ventura sj', 16.20),\n",
       " ('pontiac j2000 se hatchback', 16.20),\n",
       " ('datsun 310 gx', 16.20),\n",
       " ('toyota corolla', 16.26),\n",
       " ('amc hornet', 16.27),\n",
       " ('datsun 310', 16.40),\n",
       " ('ford fairmont futura', 16.40),\n",
       " ('chevrolet concours', 16.40),\n",
       " ('buick century limited', 16.40),\n",
       " ('plymouth champ', 16.40),\n",
       " ('ford pinto runabout', 16.50),\n",
       " ('audi fox', 16.50),\n",
       " ('datsun 610', 16.50),\n",
       " ('plymouth satellite sebring', 16.50),\n",
       " ('toyota corolla 1600 (sw)', 16.50),\n",
       " ('ford pinto', 16.52),\n",
       " ('honda accord lx', 16.60),\n",
       " ('chrysler lebaron salon', 16.60),\n",
       " ('dodge aspen 6', 16.60),\n",
       " ('buick skylark', 16.65),\n",
       " ('subaru', 16.65),\n",
       " ('mercury zephyr', 16.70),\n",
       " ('plymouth sapporo', 16.70),\n",
       " ('mercedes-benz 280s', 16.70),\n",
       " ('datsun f-10 hatchback', 16.80),\n",
       " ('toyota starlet', 16.90),\n",
       " ('honda civic cvcc', 16.95),\n",
       " ('dodge colt hardtop', 17.00),\n",
       " ('datsun 510 (sw)', 17.00),\n",
       " ('datsun b-210', 17.00),\n",
       " ('oldsmobile cutlass ciera (diesel)', 17.00),\n",
       " ('amc pacer', 17.00),\n",
       " ('ford granada gl', 17.10),\n",
       " ('plymouth volare', 17.20),\n",
       " ('subaru dl', 17.20),\n",
       " ('ford fairmont 4', 17.30),\n",
       " ('chevrolet camaro', 17.30),\n",
       " ('renault lecar deluxe', 17.30),\n",
       " ('mercury lynx l', 17.30),\n",
       " ('toyota tercel', 17.30),\n",
       " ('ford maverick', 17.32),\n",
       " ('cadillac eldorado', 17.40),\n",
       " ('fiat 128', 17.50),\n",
       " ('saab 99e', 17.50),\n",
       " ('oldsmobile starfire sx', 17.60),\n",
       " ('mazda glc custom', 17.60),\n",
       " ('plymouth volare custom', 17.70),\n",
       " ('dodge aspen se', 17.70),\n",
       " ('chevrolet chevette', 17.80),\n",
       " ('amc pacer d/l', 17.80),\n",
       " ('mazda glc', 17.90),\n",
       " ('mazda 626', 17.90),\n",
       " ('chevrolet cavalier 2-door', 18.00),\n",
       " ('volkswagen 411 (sw)', 18.00),\n",
       " ('datsun 710', 18.00),\n",
       " ('chevrolet nova custom', 18.00),\n",
       " ('renault 12 (sw)', 18.00),\n",
       " ('datsun 1200', 18.00),\n",
       " ('ford fairmont', 18.10),\n",
       " ('mazda glc custom l', 18.20),\n",
       " ('mercury zephyr 6', 18.20),\n",
       " ('amc concord dl 6', 18.20),\n",
       " ('toyota corolla liftback', 18.20),\n",
       " ('buick century', 18.40),\n",
       " ('hi 1200d', 18.50),\n",
       " ('honda accord cvcc', 18.50),\n",
       " ('pontiac astro', 18.50),\n",
       " ('chevroelt chevelle malibu', 18.50),\n",
       " ('ford ranger', 18.60),\n",
       " ('renault 5 gtl', 18.60),\n",
       " ('chevrolet cavalier wagon', 18.60),\n",
       " ('datsun b210 gx', 18.60),\n",
       " ('amc concord', 18.65),\n",
       " ('chevrolet vega', 18.67),\n",
       " ('dodge aspen', 18.70),\n",
       " ('toyota corolla tercel', 18.80),\n",
       " ('oldsmobile cutlass salon brougham', 18.85),\n",
       " ('chevrolet vega (sw)', 19.00),\n",
       " ('volkswagen model 111', 19.00),\n",
       " ('toyota carina', 19.00),\n",
       " ('ford granada', 19.00),\n",
       " ('oldsmobile cutlass ls', 19.00),\n",
       " ('plymouth fury', 19.00),\n",
       " ('datsun b210', 19.00),\n",
       " ('oldsmobile cutlass supreme', 19.00),\n",
       " ('datsun 210', 19.20),\n",
       " ('pontiac phoenix lj', 19.20),\n",
       " ('datsun 210 mpg', 19.40),\n",
       " ('chevy s-10', 19.40),\n",
       " ('mazda glc deluxe', 19.40),\n",
       " ('peugeot 304', 19.50),\n",
       " ('peugeot 504 (sw)', 19.50),\n",
       " ('chevrolet cavalier', 19.60),\n",
       " ('volvo diesel', 19.60),\n",
       " ('audi 5000s (diesel)', 19.90),\n",
       " ('toyota corolla 1200', 20.00),\n",
       " ('mercedes benz 300d', 20.10),\n",
       " ('peugeot 504', 20.30),\n",
       " ('peugeot 505s turbo diesel', 20.40),\n",
       " ('volkswagen 1131 deluxe sedan', 20.50),\n",
       " ('amc concord dl', 20.50),\n",
       " ('plymouth cricket', 20.50),\n",
       " ('ford escort 2h', 20.70),\n",
       " ('volkswagen super beetle', 21.00),\n",
       " ('ford granada ghia', 21.00),\n",
       " ('mercury monarch', 21.00),\n",
       " ('volkswagen rabbit custom diesel', 21.50),\n",
       " ('vw rabbit c (diesel)', 21.70),\n",
       " ('mercedes-benz 240d', 21.80),\n",
       " ('chevrolet woody', 22.10),\n",
       " ('volkswagen type 3', 23.50),\n",
       " ('vw dasher (diesel)', 23.70),\n",
       " ('vw pickup', 24.60)]"
      ]
     },
     "execution_count": 71,
     "metadata": {},
     "output_type": "execute_result"
    }
   ],
   "source": [
    "HwympgByName= []\n",
    "\n",
    "for t in vehiclename:\n",
    "    summpg = 0\n",
    "    vnamecount = 0\n",
    "    for d in mpg:\n",
    "        if d['name'] == t:\n",
    "            summpg += float(d['acceleration'])\n",
    "            vnamecount += 1\n",
    "    HwympgByName.append((t, summpg/vnamecount))\n",
    "HwympgByName.sort(key=lambda x: x[1])\n",
    "HwympgByName\n",
    "    "
   ]
  },
  {
   "cell_type": "code",
   "execution_count": null,
   "metadata": {},
   "outputs": [],
   "source": []
  }
 ],
 "metadata": {
  "kernelspec": {
   "display_name": "Python 3",
   "language": "python",
   "name": "python3"
  },
  "language_info": {
   "codemirror_mode": {
    "name": "ipython",
    "version": 3
   },
   "file_extension": ".py",
   "mimetype": "text/x-python",
   "name": "python",
   "nbconvert_exporter": "python",
   "pygments_lexer": "ipython3",
   "version": "3.7.6"
  }
 },
 "nbformat": 4,
 "nbformat_minor": 4
}
